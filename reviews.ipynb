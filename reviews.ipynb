{
 "cells": [
  {
   "cell_type": "code",
   "execution_count": null,
   "metadata": {},
   "outputs": [],
   "source": [
    "import airbnb\n",
    "import pandas as pd\n",
    "import datetime as dt\n",
    "import credentials\n",
    "from slackclient import SlackClient"
   ]
  },
  {
   "cell_type": "code",
   "execution_count": null,
   "metadata": {},
   "outputs": [],
   "source": [
    "api = airbnb.Api(credentials.AIRBNB_EMAIL, credentials.AIRBNB_PASSWORD)\n",
    "## this fails sometimes if you havent logged into the website on the same machine recently"
   ]
  },
  {
   "cell_type": "code",
   "execution_count": null,
   "metadata": {},
   "outputs": [],
   "source": [
    "api.get_profile()"
   ]
  },
  {
   "cell_type": "code",
   "execution_count": null,
   "metadata": {},
   "outputs": [],
   "source": [
    "#api doesn't seem able to return these anymore\n",
    "listings=(17343208,\n",
    "          17767863,\n",
    "          20287325,\n",
    "          31146290,\n",
    "          26572144,\n",
    "          17433075,\n",
    "          17696905,\n",
    "          23004935,\n",
    "          17767353,\n",
    "          21026079,\n",
    "          21449226,\n",
    "          28992621,\n",
    "          29992190,\n",
    "          17944621,\n",
    "          26571969,\n",
    "          21026964,\n",
    "          21026891,\n",
    "          17731097,\n",
    "          17344333,\n",
    "          27710210,\n",
    "          27713331,\n",
    "          27381476,\n",
    "          24471037,\n",
    "          24474059,\n",
    "          24474631,\n",
    "          24474830,\n",
    "          18349074,\n",
    "          30805198,\n",
    "          30805783,\n",
    "          30776488,\n",
    "          21555212,\n",
    "          22310307,\n",
    "          18794629)"
   ]
  },
  {
   "cell_type": "code",
   "execution_count": null,
   "metadata": {},
   "outputs": [],
   "source": [
    "def getReviewsFromListing(listing):\n",
    "    offset=100\n",
    "    df=pd.DataFrame.from_dict(api.get_reviews(listing, limit=100)['reviews'])\n",
    "    dfTotal=df\n",
    "    while len(df.index)==100:\n",
    "        df=pd.DataFrame.from_dict(api.get_reviews(listing, limit=100,offset=offset)['reviews'])\n",
    "        dfTotal=dfTotal.append(df)\n",
    "        offset=offset+100\n",
    "    return dfTotal"
   ]
  },
  {
   "cell_type": "code",
   "execution_count": null,
   "metadata": {},
   "outputs": [],
   "source": [
    "##pull full reviews for all listings\n",
    "##appends into big dataframe\n",
    "def makeReviewDF(listings):\n",
    "    print(\"Getting reviews from listing \" + str(listings[0]))\n",
    "    reviewsdf=getReviewsFromListing(listings[0])\n",
    "    for listing in listings:\n",
    "        if not(listing==listings[0]):\n",
    "            print(\"Getting reviews from listing \" + str(listing))\n",
    "            reviewsdf=reviewsdf.append(getReviewsFromListing(listing))\n",
    "    ##convert to datetime\n",
    "#    reviewsdf['created_at']=pd.to_datetime(reviewsdf['created_at'])\n",
    "    return reviewsdf"
   ]
  },
  {
   "cell_type": "code",
   "execution_count": null,
   "metadata": {},
   "outputs": [],
   "source": [
    "reviewsdf=makeReviewDF(listings)"
   ]
  },
  {
   "cell_type": "code",
   "execution_count": null,
   "metadata": {},
   "outputs": [],
   "source": [
    "print(reviewsdf.sort_values(by=['created_at'], ascending=False))"
   ]
  },
  {
   "cell_type": "code",
   "execution_count": null,
   "metadata": {},
   "outputs": [],
   "source": [
    "def fixDate(date):\n",
    "    return date.tz_localize(None)\n",
    "\n",
    "def filterNewReviews(reviewsDF):\n",
    "    today=dt.datetime.today()\n",
    "    start=pd.Timestamp(today)+pd.Timedelta('-6 days')\n",
    "    end=pd.Timestamp(today)+pd.Timedelta('-1 days')\n",
    "    reviewsdf['created_at']=pd.to_datetime(reviewsdf['created_at']).apply(fixDate)\n",
    "    df=reviewsdf[reviewsdf['created_at']>=start]\n",
    "    df2=df[df['created_at']<end]\n",
    "    return df2"
   ]
  },
  {
   "cell_type": "code",
   "execution_count": null,
   "metadata": {},
   "outputs": [],
   "source": [
    "reviewsToSend=filterNewReviews(reviewsdf)\n",
    "print(reviewsToSend)"
   ]
  },
  {
   "cell_type": "code",
   "execution_count": null,
   "metadata": {},
   "outputs": [],
   "source": [
    "def formatReviews(reviewsdf):\n",
    "    reviewList=[]\n",
    "    size=len(reviewsdf.index)\n",
    "    \n",
    "    for i in range(0,len(reviewsdf.index)):\n",
    "        name=reviewsToSend.iloc[i]['author']['smart_name']\n",
    "        rating=reviewsToSend.iloc[i]['rating']\n",
    "        review=reviewsToSend.iloc[i]['comments']\n",
    "        date=reviewsToSend.iloc[i]['created_at'].strftime('%B %d, %Y, %r')\n",
    "        room=reviewsToSend.iloc[i]['listing']['name']\n",
    "        if (\"Dave\" in review) or (\"dave\" in review) or (\"David\" in review) or (\"david\" in review):\n",
    "            pizza=\"\\n\"+\":pizza_dance:\"*10\n",
    "        else:\n",
    "            pizza=\"\"\n",
    "        output=\"\\n\"+ratingToEmoji(rating)+pizza+\"\\n\\n Review for *\" + room + \"* by *\" +name+ \\\n",
    "            \"* on \" + date + \"\\n\\n*Rating*: \"+\":star:\"*rating+\"\\n\\n\"+review+\"\\n\\n\"+ ratingToEmoji(rating)\n",
    "        reviewList.append(output)\n",
    "    return reviewList"
   ]
  },
  {
   "cell_type": "code",
   "execution_count": null,
   "metadata": {},
   "outputs": [],
   "source": [
    "reviewsText=formatReviews(reviewsToSend)"
   ]
  },
  {
   "cell_type": "code",
   "execution_count": null,
   "metadata": {},
   "outputs": [],
   "source": [
    "def postReviewsToSlack(reviewsList):\n",
    "    # connect to slack and post the reviews with a delay\n",
    "    token = credentials.SLACK_TOKEN      # found at https://api.slack.com/web#authentication\n",
    "    sc = SlackClient(token)\n",
    "    for review in reviewsList:\n",
    "        sc.api_call(\n",
    "            \"chat.postMessage\",\n",
    "            channel='rv_hotel_reviews',\n",
    "            text=review,\n",
    "            icon_emoji=\":love_hotel:\"\n",
    "        ) "
   ]
  },
  {
   "cell_type": "code",
   "execution_count": null,
   "metadata": {},
   "outputs": [],
   "source": [
    "postReviewsToSlack(reviewsText)"
   ]
  }
 ],
 "metadata": {
  "kernelspec": {
   "display_name": "Python 3",
   "language": "python",
   "name": "python3"
  },
  "language_info": {
   "codemirror_mode": {
    "name": "ipython",
    "version": 3
   },
   "file_extension": ".py",
   "mimetype": "text/x-python",
   "name": "python",
   "nbconvert_exporter": "python",
   "pygments_lexer": "ipython3",
   "version": "3.7.2"
  }
 },
 "nbformat": 4,
 "nbformat_minor": 2
}
