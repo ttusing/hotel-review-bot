{
 "cells": [
  {
   "cell_type": "code",
   "execution_count": 8,
   "metadata": {},
   "outputs": [],
   "source": [
    "import airbnb\n",
    "import pandas as pd\n",
    "import datetime as dt\n",
    "import credentials\n",
    "from slackclient import SlackClient"
   ]
  },
  {
   "cell_type": "code",
   "execution_count": 11,
   "metadata": {},
   "outputs": [
    {
     "name": "stdout",
     "output_type": "stream",
     "text": [
      "Your access token: 8to3if8hyyv0srnsr5dmrz0f4\n"
     ]
    }
   ],
   "source": [
    "api = airbnb.Api(credentials.AIRBNB_EMAIL, credentials.AIRBNB_PASSWORD)\n",
    "## this fails sometimes if you havent logged into the website on the same machine recently"
   ]
  },
  {
   "cell_type": "code",
   "execution_count": null,
   "metadata": {},
   "outputs": [],
   "source": [
    "def getListings():\n",
    "\n",
    "    profile=api.get_profile()\n",
    "    userid=profile['login']['account']['id']\n",
    "    listingsDict=api.get_listings(userid)\n",
    "    listingsdf=pd.DataFrame.from_dict(listingsDict['listings'])\n",
    "    listings=listingsdf['id'].tolist()\n",
    "    \n",
    "    return listings"
   ]
  },
  {
   "cell_type": "code",
   "execution_count": null,
   "metadata": {},
   "outputs": [],
   "source": [
    "listings=getListings()\n",
    "print(listings)"
   ]
  },
  {
   "cell_type": "code",
   "execution_count": null,
   "metadata": {},
   "outputs": [],
   "source": [
    "def getReviewsFromListing(listing):\n",
    "    offset=100\n",
    "    df=pd.DataFrame.from_dict(api.get_reviews(listing, limit=100)['reviews'])\n",
    "    dfTotal=df\n",
    "    while len(df.index)==100:\n",
    "        df=pd.DataFrame.from_dict(api.get_reviews(listing, limit=100,offset=offset)['reviews'])\n",
    "        dfTotal=dfTotal.append(df)\n",
    "        offset=offset+100\n",
    "    return dfTotal"
   ]
  },
  {
   "cell_type": "code",
   "execution_count": null,
   "metadata": {},
   "outputs": [],
   "source": [
    "##pull full reviews for all listings\n",
    "##appends into big dataframe\n",
    "def makeReviewDF(listings):\n",
    "    print(\"Getting reviews from listing \" + str(listings[0]))\n",
    "    reviewsdf=getReviewsFromListing(listings[0])\n",
    "    for listing in listings:\n",
    "        if not(listing==listings[0]):\n",
    "            print(\"Getting reviews from listing \" + str(listing))\n",
    "            reviewsdf=reviewsdf.append(getReviewsFromListing(listing))\n",
    "    ##convert to datetime\n",
    "    reviewsdf['created_at']=pd.to_datetime(reviewsdf['created_at'])\n",
    "    return reviewsdf"
   ]
  },
  {
   "cell_type": "code",
   "execution_count": null,
   "metadata": {},
   "outputs": [],
   "source": [
    "reviewsdf=makeReviewDF(listings)"
   ]
  },
  {
   "cell_type": "code",
   "execution_count": null,
   "metadata": {},
   "outputs": [],
   "source": [
    "print(reviewsdf.sort_values(by=['created_at'], ascending=False))"
   ]
  },
  {
   "cell_type": "code",
   "execution_count": null,
   "metadata": {},
   "outputs": [],
   "source": [
    "def filterNewReviews(reviewsDF):\n",
    "    today=dt.datetime.today()\n",
    "    start=pd.Timestamp(today)+pd.Timedelta('-5 days')\n",
    "    end=pd.Timestamp(today)+pd.Timedelta('-1 days')\n",
    "    df=reviewsdf[reviewsdf['created_at']>=start]\n",
    "    df2=df[df['created_at']<end]\n",
    "    return df2"
   ]
  },
  {
   "cell_type": "code",
   "execution_count": null,
   "metadata": {},
   "outputs": [],
   "source": [
    "reviewsToSend=filterNewReviews(reviewsdf)\n",
    "print(reviewsToSend)"
   ]
  },
  {
   "cell_type": "code",
   "execution_count": null,
   "metadata": {},
   "outputs": [],
   "source": [
    "def formatReviews(reviewsdf):\n",
    "    reviewList=[]\n",
    "    size=len(reviewsdf.index)\n",
    "    def ratingToEmoji(rating):\n",
    "        if rating==1:\n",
    "            emoji=\":whutt:\"*10\n",
    "        if rating==2:\n",
    "            emoji=\":sadparrot:\"*10\n",
    "        if rating==3:\n",
    "            emoji=\":tumbleweed:\"*10\n",
    "        if rating==4:\n",
    "            emoji=\":sweep:\"*10\n",
    "        if rating==5:\n",
    "            emoji=\":yay::bananadance::partyparrot::yay::bananadance::partyparrot::yay::bananadance::partyparrot:\"\n",
    "        return emoji\n",
    "    \n",
    "    for i in range(0,len(reviewsdf.index)):\n",
    "        name=reviewsToSend.iloc[i]['author']['smart_name']\n",
    "        rating=reviewsToSend.iloc[i]['rating']\n",
    "        review=reviewsToSend.iloc[i]['comments']\n",
    "        date=reviewsToSend.iloc[i]['created_at'].strftime('%B %d, %Y, %r')\n",
    "        room=reviewsToSend.iloc[i]['listing']['name']\n",
    "        if (\"Dave\" in review) or (\"dave\" in review) or (\"David\" in review) or (\"david\" in review):\n",
    "            pizza=\"\\n\"+\":pizza_dance:\"*10\n",
    "        else:\n",
    "            pizza=\"\"\n",
    "        output=\"\\n\"+ratingToEmoji(rating)+pizza+\"\\n\\n Review for *\" + room + \"* by *\" +name+ \\\n",
    "            \"* on \" + date + \"\\n\\n*Rating*: \"+\":star:\"*rating+\"\\n\\n\"+review+\"\\n\\n\"+ ratingToEmoji(rating)\n",
    "        reviewList.append(output)\n",
    "    return reviewList"
   ]
  },
  {
   "cell_type": "code",
   "execution_count": null,
   "metadata": {},
   "outputs": [],
   "source": [
    "reviewsText=formatReviews(reviewsToSend)"
   ]
  },
  {
   "cell_type": "code",
   "execution_count": null,
   "metadata": {},
   "outputs": [],
   "source": [
    "def postReviewsToSlack(reviewsList):\n",
    "    # connect to slack and post the reviews with a delay\n",
    "    token = credentials.SLACK_TOKEN      # found at https://api.slack.com/web#authentication\n",
    "    sc = SlackClient(token)\n",
    "    for review in reviewsList:\n",
    "        sc.api_call(\n",
    "            \"chat.postMessage\",\n",
    "            channel='rv_hotel_reviews',\n",
    "            text=review,\n",
    "            icon_emoji=\":love_hotel:\"\n",
    "        ) "
   ]
  },
  {
   "cell_type": "code",
   "execution_count": null,
   "metadata": {},
   "outputs": [],
   "source": [
    "postReviewsToSlack(reviewsText)"
   ]
  },
  {
   "cell_type": "code",
   "execution_count": null,
   "metadata": {},
   "outputs": [],
   "source": []
  }
 ],
 "metadata": {
  "kernelspec": {
   "display_name": "Python 3",
   "language": "python",
   "name": "python3"
  },
  "language_info": {
   "codemirror_mode": {
    "name": "ipython",
    "version": 3
   },
   "file_extension": ".py",
   "mimetype": "text/x-python",
   "name": "python",
   "nbconvert_exporter": "python",
   "pygments_lexer": "ipython3",
   "version": "3.7.0"
  }
 },
 "nbformat": 4,
 "nbformat_minor": 2
}
